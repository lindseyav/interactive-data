{
 "cells": [
  {
   "cell_type": "code",
   "execution_count": 2,
   "id": "f9f984e6",
   "metadata": {},
   "outputs": [],
   "source": [
    "import pandas as pd"
   ]
  },
  {
   "cell_type": "code",
   "execution_count": 3,
   "id": "92b12d3f",
   "metadata": {
    "scrolled": true
   },
   "outputs": [
    {
     "data": {
      "text/plain": [
       "pandas.core.frame.DataFrame"
      ]
     },
     "execution_count": 3,
     "metadata": {},
     "output_type": "execute_result"
    }
   ],
   "source": [
    "pd.DataFrame"
   ]
  },
  {
   "cell_type": "code",
   "execution_count": 4,
   "id": "60acdc1f",
   "metadata": {},
   "outputs": [],
   "source": [
    "json_option_1 = [{'a':5, 'b':7, 'c': 9}, {'a': 8, 'b': 11, 'c':2}, {'a': 1, 'b':16, 'c': 13}] "
   ]
  },
  {
   "cell_type": "code",
   "execution_count": 6,
   "id": "9741e7c0",
   "metadata": {},
   "outputs": [
    {
     "data": {
      "text/html": [
       "<div>\n",
       "<style scoped>\n",
       "    .dataframe tbody tr th:only-of-type {\n",
       "        vertical-align: middle;\n",
       "    }\n",
       "\n",
       "    .dataframe tbody tr th {\n",
       "        vertical-align: top;\n",
       "    }\n",
       "\n",
       "    .dataframe thead th {\n",
       "        text-align: right;\n",
       "    }\n",
       "</style>\n",
       "<table border=\"1\" class=\"dataframe\">\n",
       "  <thead>\n",
       "    <tr style=\"text-align: right;\">\n",
       "      <th></th>\n",
       "      <th>a</th>\n",
       "      <th>b</th>\n",
       "      <th>c</th>\n",
       "    </tr>\n",
       "  </thead>\n",
       "  <tbody>\n",
       "    <tr>\n",
       "      <th>0</th>\n",
       "      <td>5</td>\n",
       "      <td>7</td>\n",
       "      <td>9</td>\n",
       "    </tr>\n",
       "    <tr>\n",
       "      <th>1</th>\n",
       "      <td>8</td>\n",
       "      <td>11</td>\n",
       "      <td>2</td>\n",
       "    </tr>\n",
       "    <tr>\n",
       "      <th>2</th>\n",
       "      <td>1</td>\n",
       "      <td>16</td>\n",
       "      <td>13</td>\n",
       "    </tr>\n",
       "  </tbody>\n",
       "</table>\n",
       "</div>"
      ],
      "text/plain": [
       "   a   b   c\n",
       "0  5   7   9\n",
       "1  8  11   2\n",
       "2  1  16  13"
      ]
     },
     "execution_count": 6,
     "metadata": {},
     "output_type": "execute_result"
    }
   ],
   "source": [
    "df_option_1 = pd.DataFrame(json_option_1)\n",
    "df_option_1"
   ]
  },
  {
   "cell_type": "code",
   "execution_count": 8,
   "id": "de5f1b98",
   "metadata": {},
   "outputs": [
    {
     "name": "stdout",
     "output_type": "stream",
     "text": [
      "RangeIndex(start=0, stop=3, step=1)\n"
     ]
    }
   ],
   "source": [
    "print(df_option_1.index)"
   ]
  },
  {
   "cell_type": "code",
   "execution_count": 9,
   "id": "4981bdbf",
   "metadata": {},
   "outputs": [
    {
     "data": {
      "text/plain": [
       "0    5\n",
       "1    8\n",
       "2    1\n",
       "Name: a, dtype: int64"
      ]
     },
     "execution_count": 9,
     "metadata": {},
     "output_type": "execute_result"
    }
   ],
   "source": [
    "df_option_1['a']"
   ]
  },
  {
   "cell_type": "code",
   "execution_count": 10,
   "id": "13454e87",
   "metadata": {},
   "outputs": [
    {
     "data": {
      "text/plain": [
       "a    5\n",
       "b    7\n",
       "c    9\n",
       "Name: 0, dtype: int64"
      ]
     },
     "execution_count": 10,
     "metadata": {},
     "output_type": "execute_result"
    }
   ],
   "source": [
    "df_option_1.iloc[0]"
   ]
  },
  {
   "cell_type": "code",
   "execution_count": 12,
   "id": "780d3662",
   "metadata": {},
   "outputs": [],
   "source": [
    "subset_df_option_1 = df_option_1"
   ]
  },
  {
   "cell_type": "code",
   "execution_count": 13,
   "id": "7e98ac1a",
   "metadata": {},
   "outputs": [],
   "source": [
    "subset_df_option_1.to_csv('exampledf.csv')"
   ]
  },
  {
   "cell_type": "code",
   "execution_count": 14,
   "id": "65a4dc31",
   "metadata": {},
   "outputs": [
    {
     "name": "stdout",
     "output_type": "stream",
     "text": [
      "Untitled.ipynb                exampledf.csv\r\n",
      "Vlasic_SystemsCheck.ipynb     in class 1-29.ipynb\r\n",
      "cces_example_data.csv         subset_cces_example_data.csv\r\n"
     ]
    }
   ],
   "source": [
    "ls"
   ]
  },
  {
   "cell_type": "markdown",
   "id": "30ca1882",
   "metadata": {},
   "source": [
    "Dynamic, interactive data visualizations enhance engagement, facilitate exploration and understanding, enable customization, improve communication and promote accessibility. These qualities make them invaluable tools for effectively communicating data to diverse audiences. Like the reading says, \"'Visual Information-Seeking Mantra': overview first, zoom and filter, then details-on-demand.\" The interactivity can make it more interesting and fun like a game to an audience that may not otherwise care, like Murray says as well. "
   ]
  }
 ],
 "metadata": {
  "kernelspec": {
   "display_name": "Python 3 (ipykernel)",
   "language": "python",
   "name": "python3"
  },
  "language_info": {
   "codemirror_mode": {
    "name": "ipython",
    "version": 3
   },
   "file_extension": ".py",
   "mimetype": "text/x-python",
   "name": "python",
   "nbconvert_exporter": "python",
   "pygments_lexer": "ipython3",
   "version": "3.11.5"
  }
 },
 "nbformat": 4,
 "nbformat_minor": 5
}
