{
 "cells": [
  {
   "cell_type": "code",
   "execution_count": 3,
   "id": "0db7cf98-7109-401a-9082-e246726c2f62",
   "metadata": {},
   "outputs": [],
   "source": [
    "x = 5"
   ]
  },
  {
   "cell_type": "code",
   "execution_count": 4,
   "id": "3d5e140c-5316-45f4-86eb-163ff1471af8",
   "metadata": {},
   "outputs": [
    {
     "data": {
      "text/plain": [
       "5"
      ]
     },
     "execution_count": 4,
     "metadata": {},
     "output_type": "execute_result"
    }
   ],
   "source": [
    "x"
   ]
  },
  {
   "cell_type": "code",
   "execution_count": 5,
   "id": "ba579a63-1d43-4dad-b722-5382e2cdb25e",
   "metadata": {},
   "outputs": [
    {
     "name": "stdout",
     "output_type": "stream",
     "text": [
      "5\n"
     ]
    }
   ],
   "source": [
    "print(x)"
   ]
  },
  {
   "cell_type": "code",
   "execution_count": 8,
   "id": "5856506e-0e50-4395-9d80-027825260e30",
   "metadata": {},
   "outputs": [
    {
     "name": "stdout",
     "output_type": "stream",
     "text": [
      "1\n",
      "2\n",
      "3\n",
      "4\n",
      "5\n"
     ]
    }
   ],
   "source": [
    "for i in [1,2,3,4]:\n",
    "   print(i)\n",
    "\n",
    "for i in [x]: \n",
    "    print(i)"
   ]
  },
  {
   "cell_type": "code",
   "execution_count": 9,
   "id": "beb7827a-b543-49b4-ad48-1b84ad0dfdb8",
   "metadata": {},
   "outputs": [],
   "source": [
    "def say_hello(x): \n",
    "    print(\"hello \" + str(x))"
   ]
  },
  {
   "cell_type": "code",
   "execution_count": 10,
   "id": "afcf1acc-16ae-480d-a70b-3a67b900da76",
   "metadata": {},
   "outputs": [
    {
     "name": "stdout",
     "output_type": "stream",
     "text": [
      "hello Lindsey\n"
     ]
    }
   ],
   "source": [
    "say_hello(\"Lindsey\")"
   ]
  },
  {
   "cell_type": "code",
   "execution_count": 11,
   "id": "21401a4e-8f8e-46b7-a9b6-d3795cc6b756",
   "metadata": {},
   "outputs": [],
   "source": [
    "def return_hello(x): \n",
    "    y = \"hello\" + x \n",
    "    return y "
   ]
  },
  {
   "cell_type": "code",
   "execution_count": 12,
   "id": "2b45fbbe-ed12-41c6-b00f-25262f66d410",
   "metadata": {},
   "outputs": [
    {
     "data": {
      "text/plain": [
       "'helloLindsey'"
      ]
     },
     "execution_count": 12,
     "metadata": {},
     "output_type": "execute_result"
    }
   ],
   "source": [
    "return_hello(\"Lindsey\")"
   ]
  },
  {
   "cell_type": "markdown",
   "id": "bd397d3b-dc39-4de3-99e8-5c5e3fe2628d",
   "metadata": {},
   "source": [
    "# What I hope to gain from this class"
   ]
  },
  {
   "cell_type": "markdown",
   "id": "d45a8581-4956-4b19-89df-67135cc8fee4",
   "metadata": {},
   "source": [
    "## *Just a short list*"
   ]
  },
  {
   "cell_type": "markdown",
   "id": "c08614ac-2775-4837-a4c0-fe7dc51c817d",
   "metadata": {},
   "source": [
    "1) An understanding of Python, even **just** the basics\n",
    "2) Learn to think more analytically and take those skills and apply them to my career\n",
    "3) New skills in data interpretation and how to turn those into possible careers"
   ]
  },
  {
   "cell_type": "markdown",
   "id": "fd6a9c62-47b0-4b3d-a908-ef72b11e0a67",
   "metadata": {},
   "source": [
    "![Image](https://www.google.com/url?sa=i&url=https%3A%2F%2Fpngtree.com%2Ffree-png-vectors%2Fmusic-notes&psig=AOvVaw0CgfVj2Hs6_mdp38VxxA72&ust=1706058601278000&source=images&cd=vfe&opi=89978449&ved=0CBMQjRxqFwoTCKDp0dmp8oMDFQAAAAAdAAAAABAG)"
   ]
  },
  {
   "cell_type": "code",
   "execution_count": null,
   "id": "33853914-66da-4b2c-90b8-60d593eccbee",
   "metadata": {},
   "outputs": [],
   "source": []
  }
 ],
 "metadata": {
  "kernelspec": {
   "display_name": "Python 3 (ipykernel)",
   "language": "python",
   "name": "python3"
  },
  "language_info": {
   "codemirror_mode": {
    "name": "ipython",
    "version": 3
   },
   "file_extension": ".py",
   "mimetype": "text/x-python",
   "name": "python",
   "nbconvert_exporter": "python",
   "pygments_lexer": "ipython3",
   "version": "3.12.1"
  }
 },
 "nbformat": 4,
 "nbformat_minor": 5
}
