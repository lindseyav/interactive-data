{
 "cells": [
  {
   "cell_type": "code",
   "execution_count": 1,
   "id": "0d47c1d0-09c7-4e67-963f-18035707f5b2",
   "metadata": {},
   "outputs": [],
   "source": [
    "import pandas as pd\n",
    "import json"
   ]
  },
  {
   "cell_type": "code",
   "execution_count": 2,
   "id": "482be3f4-8d20-4dfd-be5b-4d0ccc898a69",
   "metadata": {},
   "outputs": [],
   "source": [
    "with open('chessbuds_messages.json') as c:\n",
    "    mess = json.load(c)"
   ]
  },
  {
   "cell_type": "code",
   "execution_count": 3,
   "id": "fba81841-03c6-4f5b-a2d5-e84bf2de7947",
   "metadata": {},
   "outputs": [
    {
     "data": {
      "text/plain": [
       "dict"
      ]
     },
     "execution_count": 3,
     "metadata": {},
     "output_type": "execute_result"
    }
   ],
   "source": [
    "type(mess)"
   ]
  },
  {
   "cell_type": "code",
   "execution_count": 5,
   "id": "5c2375f5-d4bc-4b9d-aaf8-a45e7d5dcb67",
   "metadata": {},
   "outputs": [
    {
     "data": {
      "text/plain": [
       "dict_keys(['participants', 'messages', 'title', 'is_still_participant', 'thread_type', 'thread_path', 'magic_words', 'joinable_mode'])"
      ]
     },
     "execution_count": 5,
     "metadata": {},
     "output_type": "execute_result"
    }
   ],
   "source": [
    "mess.keys()"
   ]
  },
  {
   "cell_type": "code",
   "execution_count": 6,
   "id": "81a60595-f1d9-486d-a841-41c6e7a52c5d",
   "metadata": {},
   "outputs": [
    {
     "data": {
      "text/plain": [
       "[{'sender_name': 'Joanna Rusch',\n",
       "  'timestamp_ms': 1666374933946,\n",
       "  'content': \"Maybe he just wants to ride the publicity for a bit longer, even if he doesn't get any money from the lawsuit. Like, I didn't know his name before this but I certainly do now.\",\n",
       "  'reactions': [{'reaction': 'ð\\x9f\\x91\\x8d', 'actor': 'Chad Larson'},\n",
       "   {'reaction': 'ð\\x9f\\x91\\x8d', 'actor': 'Chad Larson'}],\n",
       "  'type': 'Generic',\n",
       "  'is_unsent': False,\n",
       "  'is_taken_down': False,\n",
       "  'bumped_message_metadata': {'bumped_message': \"Maybe he just wants to ride the publicity for a bit longer, even if he doesn't get any money from the lawsuit. Like, I didn't know his name before this but I certainly do now.\",\n",
       "   'is_bumped': False}},\n",
       " {'sender_name': 'Chad Larson',\n",
       "  'timestamp_ms': 1666373448613,\n",
       "  'content': 'To be fair to Hans....no one wants to be associated with an \"anal bead\" theory.',\n",
       "  'reactions': [{'reaction': 'ð\\x9f\\x98\\x86', 'actor': 'Scott Pence'},\n",
       "   {'reaction': 'ð\\x9f\\x98\\x86', 'actor': 'Scott Pence'}],\n",
       "  'type': 'Generic',\n",
       "  'is_unsent': False,\n",
       "  'is_taken_down': False,\n",
       "  'bumped_message_metadata': {'bumped_message': 'To be fair to Hans....no one wants to be associated with an \"anal bead\" theory.',\n",
       "   'is_bumped': False}}]"
      ]
     },
     "execution_count": 6,
     "metadata": {},
     "output_type": "execute_result"
    }
   ],
   "source": [
    "mess['messages'][0:2]"
   ]
  },
  {
   "cell_type": "code",
   "execution_count": 7,
   "id": "cffcd7d7-2914-44fe-a055-6e04989b0cd0",
   "metadata": {},
   "outputs": [
    {
     "data": {
      "text/plain": [
       "dict_keys(['sender_name', 'timestamp_ms', 'content', 'reactions', 'type', 'is_unsent', 'is_taken_down', 'bumped_message_metadata'])"
      ]
     },
     "execution_count": 7,
     "metadata": {},
     "output_type": "execute_result"
    }
   ],
   "source": [
    "mess['messages'][0].keys()"
   ]
  },
  {
   "cell_type": "code",
   "execution_count": 8,
   "id": "a454027f-6fd1-4ae6-9c1e-2715ccaec470",
   "metadata": {},
   "outputs": [],
   "source": [
    "chessbuds_df = pd.DataFrame(mess['messages'])"
   ]
  },
  {
   "cell_type": "code",
   "execution_count": 9,
   "id": "01f1285f-7baa-4e10-affc-f21e9cab3b23",
   "metadata": {},
   "outputs": [
    {
     "data": {
      "text/html": [
       "<div>\n",
       "<style scoped>\n",
       "    .dataframe tbody tr th:only-of-type {\n",
       "        vertical-align: middle;\n",
       "    }\n",
       "\n",
       "    .dataframe tbody tr th {\n",
       "        vertical-align: top;\n",
       "    }\n",
       "\n",
       "    .dataframe thead th {\n",
       "        text-align: right;\n",
       "    }\n",
       "</style>\n",
       "<table border=\"1\" class=\"dataframe\">\n",
       "  <thead>\n",
       "    <tr style=\"text-align: right;\">\n",
       "      <th></th>\n",
       "      <th>sender_name</th>\n",
       "      <th>timestamp_ms</th>\n",
       "      <th>content</th>\n",
       "      <th>reactions</th>\n",
       "      <th>type</th>\n",
       "      <th>is_unsent</th>\n",
       "      <th>is_taken_down</th>\n",
       "      <th>bumped_message_metadata</th>\n",
       "      <th>share</th>\n",
       "      <th>photos</th>\n",
       "      <th>gifs</th>\n",
       "      <th>users</th>\n",
       "    </tr>\n",
       "  </thead>\n",
       "  <tbody>\n",
       "    <tr>\n",
       "      <th>0</th>\n",
       "      <td>Joanna Rusch</td>\n",
       "      <td>1666374933946</td>\n",
       "      <td>Maybe he just wants to ride the publicity for ...</td>\n",
       "      <td>[{'reaction': 'ð', 'actor': 'Chad Larson'},...</td>\n",
       "      <td>Generic</td>\n",
       "      <td>False</td>\n",
       "      <td>False</td>\n",
       "      <td>{'bumped_message': 'Maybe he just wants to rid...</td>\n",
       "      <td>NaN</td>\n",
       "      <td>NaN</td>\n",
       "      <td>NaN</td>\n",
       "      <td>NaN</td>\n",
       "    </tr>\n",
       "    <tr>\n",
       "      <th>1</th>\n",
       "      <td>Chad Larson</td>\n",
       "      <td>1666373448613</td>\n",
       "      <td>To be fair to Hans....no one wants to be assoc...</td>\n",
       "      <td>[{'reaction': 'ð', 'actor': 'Scott Pence'},...</td>\n",
       "      <td>Generic</td>\n",
       "      <td>False</td>\n",
       "      <td>False</td>\n",
       "      <td>{'bumped_message': 'To be fair to Hans....no o...</td>\n",
       "      <td>NaN</td>\n",
       "      <td>NaN</td>\n",
       "      <td>NaN</td>\n",
       "      <td>NaN</td>\n",
       "    </tr>\n",
       "    <tr>\n",
       "      <th>2</th>\n",
       "      <td>Chad Larson</td>\n",
       "      <td>1666373216381</td>\n",
       "      <td>He would have to prove he didn't cheat and tha...</td>\n",
       "      <td>[{'reaction': 'ð', 'actor': 'Scott Pence'},...</td>\n",
       "      <td>Generic</td>\n",
       "      <td>False</td>\n",
       "      <td>False</td>\n",
       "      <td>{'bumped_message': 'He would have to prove he ...</td>\n",
       "      <td>NaN</td>\n",
       "      <td>NaN</td>\n",
       "      <td>NaN</td>\n",
       "      <td>NaN</td>\n",
       "    </tr>\n",
       "    <tr>\n",
       "      <th>3</th>\n",
       "      <td>Scott Pence</td>\n",
       "      <td>1666373164883</td>\n",
       "      <td>Yeah, no way. You over shoot and hope to get a...</td>\n",
       "      <td>[{'reaction': 'ð', 'actor': 'Chad Larson'},...</td>\n",
       "      <td>Generic</td>\n",
       "      <td>False</td>\n",
       "      <td>False</td>\n",
       "      <td>{'bumped_message': 'Yeah, no way. You over sho...</td>\n",
       "      <td>NaN</td>\n",
       "      <td>NaN</td>\n",
       "      <td>NaN</td>\n",
       "      <td>NaN</td>\n",
       "    </tr>\n",
       "    <tr>\n",
       "      <th>4</th>\n",
       "      <td>Chad Larson</td>\n",
       "      <td>1666373111157</td>\n",
       "      <td>From what I see, I don't think he could win.  ...</td>\n",
       "      <td>NaN</td>\n",
       "      <td>Generic</td>\n",
       "      <td>False</td>\n",
       "      <td>False</td>\n",
       "      <td>{'bumped_message': 'From what I see, I don't t...</td>\n",
       "      <td>NaN</td>\n",
       "      <td>NaN</td>\n",
       "      <td>NaN</td>\n",
       "      <td>NaN</td>\n",
       "    </tr>\n",
       "  </tbody>\n",
       "</table>\n",
       "</div>"
      ],
      "text/plain": [
       "    sender_name   timestamp_ms  \\\n",
       "0  Joanna Rusch  1666374933946   \n",
       "1   Chad Larson  1666373448613   \n",
       "2   Chad Larson  1666373216381   \n",
       "3   Scott Pence  1666373164883   \n",
       "4   Chad Larson  1666373111157   \n",
       "\n",
       "                                             content  \\\n",
       "0  Maybe he just wants to ride the publicity for ...   \n",
       "1  To be fair to Hans....no one wants to be assoc...   \n",
       "2  He would have to prove he didn't cheat and tha...   \n",
       "3  Yeah, no way. You over shoot and hope to get a...   \n",
       "4  From what I see, I don't think he could win.  ...   \n",
       "\n",
       "                                           reactions     type  is_unsent  \\\n",
       "0  [{'reaction': 'ð', 'actor': 'Chad Larson'},...  Generic      False   \n",
       "1  [{'reaction': 'ð', 'actor': 'Scott Pence'},...  Generic      False   \n",
       "2  [{'reaction': 'ð', 'actor': 'Scott Pence'},...  Generic      False   \n",
       "3  [{'reaction': 'ð', 'actor': 'Chad Larson'},...  Generic      False   \n",
       "4                                                NaN  Generic      False   \n",
       "\n",
       "   is_taken_down                            bumped_message_metadata share  \\\n",
       "0          False  {'bumped_message': 'Maybe he just wants to rid...   NaN   \n",
       "1          False  {'bumped_message': 'To be fair to Hans....no o...   NaN   \n",
       "2          False  {'bumped_message': 'He would have to prove he ...   NaN   \n",
       "3          False  {'bumped_message': 'Yeah, no way. You over sho...   NaN   \n",
       "4          False  {'bumped_message': 'From what I see, I don't t...   NaN   \n",
       "\n",
       "  photos gifs users  \n",
       "0    NaN  NaN   NaN  \n",
       "1    NaN  NaN   NaN  \n",
       "2    NaN  NaN   NaN  \n",
       "3    NaN  NaN   NaN  \n",
       "4    NaN  NaN   NaN  "
      ]
     },
     "execution_count": 9,
     "metadata": {},
     "output_type": "execute_result"
    }
   ],
   "source": [
    "chessbuds_df.head()"
   ]
  },
  {
   "cell_type": "markdown",
   "id": "a55e59ef-c0a0-4474-9dd2-01d15bad9308",
   "metadata": {},
   "source": [
    "The observation is of the messages. The first column represents the name of the person who sent the messages. The second column represents the time the message was sent. The third column represents the content shared in the message. The fourth column represents the reactions to the message with the name of the person who reacted. The fifth column represents the type of message that was sent. The sixth column represents the sent status of the message. The seventh column represents if the message was taken down. The eighth column represents bumped metadata. The ninth column represents if the message was shared. The tenth column represents photos shared in the messages. The eleventh column represents if gifs were shared in the messages. The last column represents users included in the messages. "
   ]
  },
  {
   "cell_type": "markdown",
   "id": "84b99ba4-4ebd-4376-aa16-f2a8a468b174",
   "metadata": {},
   "source": [
    "This meets tidy data principles because each variable forms a column, observation forms a row and each observational unit forms a table. "
   ]
  },
  {
   "cell_type": "markdown",
   "id": "ee771d18-9976-4a5b-9fa7-ca990895c316",
   "metadata": {},
   "source": [
    "Other tidy formats would be excluding the shares, photos, gifs and users columns because they don't have any information in them. "
   ]
  },
  {
   "cell_type": "markdown",
   "id": "22ccd8ba-bc75-4ae0-9362-471af26c8e8d",
   "metadata": {},
   "source": [
    "A potential visualization that would let someone explore and, ultimately, better understand this data would be a filter and sort option for the messages. This would let people sort through the messages based on maybe the sender, contents or even reaction to the message. "
   ]
  }
 ],
 "metadata": {
  "kernelspec": {
   "display_name": "Python 3 (ipykernel)",
   "language": "python",
   "name": "python3"
  },
  "language_info": {
   "codemirror_mode": {
    "name": "ipython",
    "version": 3
   },
   "file_extension": ".py",
   "mimetype": "text/x-python",
   "name": "python",
   "nbconvert_exporter": "python",
   "pygments_lexer": "ipython3",
   "version": "3.12.1"
  }
 },
 "nbformat": 4,
 "nbformat_minor": 5
}
